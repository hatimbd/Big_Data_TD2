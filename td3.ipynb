{
 "cells": [
  {
   "cell_type": "markdown",
   "id": "dde7a4d7",
   "metadata": {},
   "source": [
    "# Big Data. TD 2"
   ]
  },
  {
   "cell_type": "markdown",
   "id": "faf21766",
   "metadata": {},
   "source": [
    " **EX1**:    \n",
    " Réaliser un algorithme de tri de complexité quadratique, par exemple, le tri à bulles.\n",
    " L’algorithme doit prendre en entrée une liste d’entiers et retourner une liste triée."
   ]
  },
  {
   "cell_type": "code",
   "execution_count": null,
   "id": "dd390f19",
   "metadata": {},
   "outputs": [],
   "source": [
    "def tri_a_bulle(T):\n",
    "    n= len(T)\n",
    "    for i in range(n):\n",
    "        for j in range(n-i-1):\n",
    "            if T[j+1] < T[j]:\n",
    "                T[j+1],T[j] = T[j],T[j+1]\n",
    "    return T"
   ]
  },
  {
   "cell_type": "markdown",
   "id": "4009d5ab",
   "metadata": {},
   "source": [
    "**EX2**:  \n",
    "Tester votre implémentation en utilisant :\n",
    "- un petit exemple,\n",
    "- une liste vide,\n",
    "- une liste aléatoire de 1000 nombres.\n",
    "  \n",
    "Pour vous assurer que votre solution fonctionne bien pour les grandes listes, utilisez une fonction build-in pour vérifier votre résultat (par exemple sorted() en python)."
   ]
  },
  {
   "cell_type": "code",
   "execution_count": null,
   "id": "2c4285fc",
   "metadata": {},
   "outputs": [
    {
     "name": "stdout",
     "output_type": "stream",
     "text": [
      "[0, 1, 2, 3, 4, 5, 6, 7, 8, 9, 10, 11, 12, 13, 14, 15]\n",
      "[0, 1, 2, 3, 4, 5, 6, 7, 8, 9]\n",
      "[]\n",
      "True\n"
     ]
    }
   ],
   "source": [
    "#test avec petits exemples\n",
    "T = [5,3,6,2,1,4,8,7,9,0]\n",
    "L = [5,3,6,2,1,4,8,7,9,0,14,13,15,12,11,10]\n",
    "\n",
    "A= tri_a_bulle(T)\n",
    "B= tri_a_bulle(L)\n",
    "print(B)\n",
    "print(A)\n",
    "\n",
    "#test avec liste vide\n",
    "V=[]\n",
    "print(tri_a_bulle(V))  #ça donne une liste vide\n",
    "\n",
    "#test avce liste aléatoire de 1000 nombres\n",
    "import random\n",
    "M = [random.randint(0,1000) for _ in range(1000)]\n",
    "#print(tri_a_bulle(M))\n",
    "print(sorted(M) == tri_a_bulle(M))  #pour vérifier que c'est bien trié"
   ]
  },
  {
   "cell_type": "markdown",
   "id": "4bfdfba9",
   "metadata": {},
   "source": [
    "**EX3**  \n",
    "Réaliser et tester de la même manière une fonction de tri de complexité O(nlog(n)), par exemple, tri fusion. Si vous avez besoin de fonctions d’aide pour implémenter votre algorithme, par exemple, si vous avez besoin d’une fonction merge() pour fusionner deux tableaux triés, implémentez une classe.   \n",
    "\n",
    "Cette classe doit être initialisée avec une liste de nombres et doit contenir une fonction qui\n",
    "renvoie une liste triée."
   ]
  },
  {
   "cell_type": "code",
   "execution_count": null,
   "id": "3b198c51",
   "metadata": {},
   "outputs": [
    {
     "name": "stdout",
     "output_type": "stream",
     "text": [
      "[0, 1, 2, 3, 4, 5, 6, 7, 8, 9, 10, 11, 12, 13, 14, 15]\n",
      "[0, 1, 2, 3, 4, 5, 6, 7, 8, 9]\n",
      "[]\n",
      "True\n",
      "['a', 'b', 'c', 'd', 'e', 'f', 'g', 'h']\n"
     ]
    }
   ],
   "source": [
    "def tri_fusion(T):\n",
    "    if len(T) <= 1:\n",
    "        return T\n",
    "    mid = len(T) // 2\n",
    "    left_half = tri_fusion(T[:mid])   #T[:mid] est le sous-tableau de T allant de l'indice 0 à mid-1\n",
    "    right_half = tri_fusion(T[mid:])  #T[mid:] est le sous-tableau de T allant de l'indice mid à la fin de T\n",
    "    \n",
    "    sorted_list = []\n",
    "    i = j = 0\n",
    "    \n",
    "    while i < len(left_half) and j < len(right_half):\n",
    "        if left_half[i] < right_half[j]:\n",
    "            sorted_list.append(left_half[i])\n",
    "            i += 1\n",
    "        else:\n",
    "            sorted_list.append(right_half[j])\n",
    "            j += 1\n",
    "    \n",
    "    sorted_list.extend(left_half[i:])  #ajoute les éléments restants de left_half\n",
    "    sorted_list.extend(right_half[j:]) #ajoute les éléments restants de right_half\n",
    "    \n",
    "    return sorted_list\n",
    "\n",
    "\n",
    "#test avec petits exemples\n",
    "T = [5,3,6,2,1,4,8,7,9,0]\n",
    "L = [5,3,6,2,1,4,8,7,9,0,14,13,15,12,11,10]\n",
    "\n",
    "A= tri_fusion(T)\n",
    "B= tri_fusion(L)\n",
    "print(B)\n",
    "print(A)\n",
    "\n",
    "#test avec liste vide\n",
    "V=[]\n",
    "print(tri_fusion(V))  #ça donne une liste vide\n",
    "\n",
    "#test avce liste aléatoire de 1000 nombres\n",
    "import random\n",
    "M = [random.randint(0,1000) for _ in range(1000)]\n",
    "#print(tri_fusion(M))\n",
    "print(sorted(M) == tri_fusion(M))  #pour vérifier que c'est bien trié\n",
    "\n",
    "\n",
    "\n",
    "##\n",
    "C=['a','g','h','f','e','d','c','b']\n",
    "print(tri_fusion(C))"
   ]
  },
  {
   "cell_type": "markdown",
   "id": "03b60f5d",
   "metadata": {},
   "source": [
    "**EX4**:  \n",
    "Félicitations, vous avez maintenant deux algorithmes de tri! Généralisez-les pour qu’ils puissent trier des entrées triables arbitraires, et pas seulement des nombres. Pour ce faire, ajoutez un argument key à votre fonction de tri.  \n",
    "Cet argument est une fonction de transformation qui peut être appliquée à vos données avant les comparaisons. Par défaut, ce devrait être une fonction identité (lambda x : x en python)."
   ]
  },
  {
   "cell_type": "code",
   "execution_count": null,
   "id": "6c0d4c5b",
   "metadata": {},
   "outputs": [
    {
     "name": "stdout",
     "output_type": "stream",
     "text": [
      "[{'nom': 'Alice', 'age': 30}, {'nom': 'Bob', 'age': 25}, {'nom': 'Charlie', 'age': 35}]\n",
      "[{'nom': 'Bob', 'age': 25}, {'nom': 'Alice', 'age': 30}, {'nom': 'Charlie', 'age': 35}]\n"
     ]
    }
   ],
   "source": [
    "#tri a bulle generalisé\n",
    "def tri_a_bulle(T, key=lambda x: x):\n",
    "    n = len(T)\n",
    "    for i in range(n):\n",
    "        for j in range(n - i - 1):\n",
    "            if key(T[j + 1]) < key(T[j]):\n",
    "                T[j + 1], T[j] = T[j], T[j + 1]\n",
    "    return T\n",
    "\n",
    "#tri par fusion generalisé\n",
    "def tri_fusion(T, key=lambda x: x):\n",
    "    if len(T) <= 1:\n",
    "        return T\n",
    "\n",
    "    mid = len(T) // 2\n",
    "    left_half = tri_fusion(T[:mid], key)\n",
    "    right_half = tri_fusion(T[mid:], key)\n",
    "\n",
    "    sorted_list = []\n",
    "    i = j = 0\n",
    "\n",
    "    while i < len(left_half) and j < len(right_half):\n",
    "        if key(left_half[i]) < key(right_half[j]):\n",
    "            sorted_list.append(left_half[i])\n",
    "            i += 1\n",
    "        else:\n",
    "            sorted_list.append(right_half[j])\n",
    "            j += 1\n",
    "\n",
    "    sorted_list.extend(left_half[i:])\n",
    "    sorted_list.extend(right_half[j:])\n",
    "    return sorted_list\n",
    "\n",
    "###tests avec des dictionnaires\n",
    "data1 = [{'nom': 'Alice', 'age': 30}, {'nom': 'Bob', 'age': 25}, {'nom': 'Charlie', 'age': 35}]\n",
    "data2 = [{'nom': 'Alice', 'age': 30}, {'nom': 'Bob', 'age': 25}, {'nom': 'Charlie', 'age': 35}]\n",
    "\n",
    "# Tri par âge\n",
    "print(tri_a_bulle(data1, key=lambda x: x['nom']))\n",
    "print(tri_fusion(data2, key=lambda x: x['age']))"
   ]
  },
  {
   "cell_type": "markdown",
   "id": "acd52f8d",
   "metadata": {},
   "source": [
    "**EX5**:  \n",
    "Testez votre solution sur une petite liste de chaînes de caractères en les triant par longueur."
   ]
  },
  {
   "cell_type": "code",
   "execution_count": null,
   "id": "a8aec729",
   "metadata": {},
   "outputs": [
    {
     "name": "stdout",
     "output_type": "stream",
     "text": [
      "['date', 'apple', 'banana', 'cherry']\n",
      "['fig', 'kiwi', 'grape', 'elderberry']\n"
     ]
    }
   ],
   "source": [
    "#######################tests avec des chaînes de caractères\n",
    "L1 = ['apple', 'banana', 'cherry', 'date']\n",
    "L2 = ['kiwi', 'fig', 'grape', 'elderberry']\n",
    "\n",
    "print(tri_a_bulle(L1, key=len))  # Trie par longueur de chaîne\n",
    "print(tri_fusion(L2, key=len))    # Trie par longueur de chaîne"
   ]
  },
  {
   "cell_type": "markdown",
   "id": "f953bde6",
   "metadata": {},
   "source": [
    "**EX6**\n",
    "Maintenant, testez vos algorithmes sur les données du TD précédent et obtenez desmesures empiriques de la complexité temporelle. En utilisant les données du TD précédent, préparez plusieurs fichiers de tailles différentes tels que :\n",
    "- les fichier scontiennent un sous-ensemble aléatoire de lignes du fichier d’origine *https://kirgizov.link/teaching/polytech-dijon/bigdata/dataset/wikirank-fr-v2.tsv.zip*\n",
    "- la colonne de popularité ne contient que des flottants, pas de NaN ou des str\n",
    "- préparer de 5 à 10 fichiers de tailles différentes pour chaque algorithme\n",
    "- la taille du plus grand fichier doit être telle que le temps d’exécution estimé de l’algorithme pour ce fichier est d’environ 2 à 5 minutes. \n",
    "  \n",
    "Utilisez le nombre d’opérations par seconde de votre langage et la complexité théorique d’algorithme pour obtenir une estimation."
   ]
  },
  {
   "cell_type": "markdown",
   "id": "9f649de0",
   "metadata": {},
   "source": [
    "#### Bibliothèques : "
   ]
  },
  {
   "cell_type": "code",
   "execution_count": null,
   "id": "90c1c3e9",
   "metadata": {},
   "outputs": [],
   "source": [
    "##exo6:\n",
    "import pandas as pd\n",
    "import numpy as np\n",
    "import os"
   ]
  },
  {
   "cell_type": "markdown",
   "id": "fd6553ef",
   "metadata": {},
   "source": [
    "générer plusieurs fichiers de tailles différentes à partir du fichier wikirank-fr-v2.tsv, tout en respectant les contraintes sur la colonne 'popularity' et en visant des durées d’exécution estimées pour des algorithmes : "
   ]
  },
  {
   "cell_type": "code",
   "execution_count": null,
   "id": "cea41021",
   "metadata": {},
   "outputs": [
    {
     "name": "stdout",
     "output_type": "stream",
     "text": [
      "0           0.0\n",
      "1           0.0\n",
      "2           0.0\n",
      "3           0.0\n",
      "4           0.0\n",
      "           ... \n",
      "10531585    1.0\n",
      "10531586    1.0\n",
      "10531587    0.0\n",
      "10531588    0.0\n",
      "10531589    1.0\n",
      "Name: popularity, Length: 10531590, dtype: float64\n",
      "✅ Fichier généré : datasets/wikirank_subset_100.tsv (100 lignes)\n",
      "✅ Fichier généré : datasets/wikirank_subset_500.tsv (500 lignes)\n",
      "✅ Fichier généré : datasets/wikirank_subset_1000.tsv (1000 lignes)\n",
      "✅ Fichier généré : datasets/wikirank_subset_5000.tsv (5000 lignes)\n",
      "✅ Fichier généré : datasets/wikirank_subset_10000.tsv (10000 lignes)\n",
      "✅ Fichier généré : datasets/wikirank_subset_20000.tsv (20000 lignes)\n",
      "✅ Fichier généré : datasets/wikirank_subset_50000.tsv (50000 lignes)\n",
      "✅ Fichier généré : datasets/wikirank_subset_100000.tsv (100000 lignes)\n",
      "✅ Fichier généré : datasets/wikirank_subset_250000.tsv (250000 lignes)\n",
      "✅ Fichier généré : datasets/wikirank_subset_500000.tsv (500000 lignes)\n"
     ]
    }
   ],
   "source": [
    "\n",
    "df = pd.read_csv(\"wikirank-fr-v2.tsv\", sep='\\t', low_memory=False)\n",
    "df['popularity'] = pd.to_numeric(df['popularity'], errors='coerce')\n",
    "df_clean = df.dropna(subset=['popularity'])\n",
    "print(df['popularity'])\n",
    "\n",
    "# Tailles cibles (ajuste selon ton algo)\n",
    "sizes = [100, 500, 1_000, 5_000, 10_000, 20_000, 50_000, 100_000, 250_000, 500_000]\n",
    "\n",
    "# Dossier de sortie\n",
    "os.makedirs(\"datasets\", exist_ok=True)\n",
    "\n",
    "# Génération des fichiers\n",
    "for size in sizes:\n",
    "    subset = df_clean.sample(n=min(size, len(df_clean)), random_state=42)\n",
    "    filename = f\"datasets/wikirank_subset_{size}.tsv\"\n",
    "    subset.to_csv(filename, sep='\\t', index=False)\n",
    "    print(f\" Fichier généré : {filename} ({len(subset)} lignes)\")"
   ]
  },
  {
   "cell_type": "markdown",
   "id": "43307fa5",
   "metadata": {},
   "source": [
    "**EX7**:  \n",
    "Créez une fonction qui lit un fichier tsv et renvoie une liste de dicts. Chaque dictionnaire représente une ligne du fichier tsv."
   ]
  },
  {
   "cell_type": "code",
   "execution_count": null,
   "id": "8d8f90de",
   "metadata": {},
   "outputs": [],
   "source": [
    "import csv\n",
    "\n",
    "def lire_tsv_en_dicts(chemin_fichier):\n",
    "    liste_dicts = []\n",
    "    with open(chemin_fichier, mode='r', encoding='utf-8') as fichier:\n",
    "        lecteur = csv.DictReader(fichier, delimiter='\\t')\n",
    "        for ligne in lecteur:\n",
    "            liste_dicts.append(dict(ligne))\n",
    "    return liste_dicts\n",
    "    "
   ]
  },
  {
   "cell_type": "markdown",
   "id": "0d140c30",
   "metadata": {},
   "source": [
    "petit test : "
   ]
  },
  {
   "cell_type": "code",
   "execution_count": null,
   "id": "feb90312",
   "metadata": {},
   "outputs": [
    {
     "name": "stdout",
     "output_type": "stream",
     "text": [
      "{'page_id': '4294959', 'page_name': 'Jean-Michel Ripa', 'quality': '14.7283', 'popularity': '0', 'authors_interest': '0'}\n",
      "{'page_id': '8433066', 'page_name': 'June Mar Fajardo', 'quality': '9.5865', 'popularity': '0', 'authors_interest': '0'}\n",
      "{'page_id': '6550804', 'page_name': 'Cnemaspis australis', 'quality': '23.0236', 'popularity': '0', 'authors_interest': '0'}\n"
     ]
    }
   ],
   "source": [
    "### test \n",
    "fichier = \"wikirank-fr-v2.tsv\"\n",
    "donnees = lire_tsv_en_dicts(fichier)\n",
    "\n",
    "# Afficher les 3 premières lignes\n",
    "for ligne in donnees[:3]:\n",
    "    print(ligne)"
   ]
  },
  {
   "cell_type": "markdown",
   "id": "3905d6dd",
   "metadata": {},
   "source": [
    "**EX8**:  \n",
    "Lire vos fichiers dans des listes de dicts et les trier par valeur de popularité en utilisant l’algorithme de tri correspondant.  \n",
    "Mesurez et enregistrez le temps d’exécution de chaque fichier."
   ]
  },
  {
   "cell_type": "code",
   "execution_count": null,
   "id": "f873eddf",
   "metadata": {},
   "outputs": [
    {
     "name": "stdout",
     "output_type": "stream",
     "text": [
      "\n",
      " Fichier : datasets\\wikirank_subset_100.tsv\n",
      " Lignes valides : 100\n",
      " Temps de tri (fusion) : 0.000 sec\n",
      "\n",
      " Fichier : datasets\\wikirank_subset_1000.tsv\n",
      " Lignes valides : 1000\n",
      " Temps de tri (fusion) : 0.002 sec\n",
      "\n",
      " Fichier : datasets\\wikirank_subset_10000.tsv\n",
      " Lignes valides : 10000\n",
      " Temps de tri (fusion) : 0.032 sec\n",
      "\n",
      " Fichier : datasets\\wikirank_subset_100000.tsv\n",
      " Lignes valides : 100000\n",
      " Temps de tri (fusion) : 0.494 sec\n",
      "\n",
      " Fichier : datasets\\wikirank_subset_20000.tsv\n",
      " Lignes valides : 20000\n",
      " Temps de tri (fusion) : 0.109 sec\n",
      "\n",
      " Fichier : datasets\\wikirank_subset_250000.tsv\n",
      " Lignes valides : 250000\n",
      " Temps de tri (fusion) : 1.091 sec\n",
      "\n",
      " Fichier : datasets\\wikirank_subset_500.tsv\n",
      " Lignes valides : 500\n",
      " Temps de tri (fusion) : 0.055 sec\n",
      "\n",
      " Fichier : datasets\\wikirank_subset_5000.tsv\n",
      " Lignes valides : 5000\n",
      " Temps de tri (fusion) : 0.014 sec\n",
      "\n",
      " Fichier : datasets\\wikirank_subset_50000.tsv\n",
      " Lignes valides : 50000\n",
      " Temps de tri (fusion) : 0.190 sec\n",
      "\n",
      " Fichier : datasets\\wikirank_subset_500000.tsv\n",
      " Lignes valides : 500000\n",
      " Temps de tri (fusion) : 2.472 sec\n"
     ]
    }
   ],
   "source": [
    "import time\n",
    "\n",
    "# Dossier contenant les fichiers TSV\n",
    "dossier = \"datasets\"\n",
    "fichiers = sorted([os.path.join(dossier, f) for f in os.listdir(dossier) if f.endswith(\".tsv\")])\n",
    "\n",
    "\n",
    "# Traitement manuel de chaque fichier\n",
    "for fichier in fichiers:\n",
    "    print(f\"\\n Fichier : {fichier}\")\n",
    "    \n",
    "    # Lecture TSV en liste de dicts\n",
    "    with open(fichier, mode='r', encoding='utf-8') as f:\n",
    "        lecteur = csv.DictReader(f, delimiter='\\t')\n",
    "        lignes = []\n",
    "        for ligne in lecteur:\n",
    "            try:\n",
    "                ligne['popularity'] = float(ligne['popularity'])\n",
    "                lignes.append(ligne)\n",
    "            except:\n",
    "                continue\n",
    "\n",
    "    print(f\" Lignes valides : {len(lignes)}\")\n",
    "\n",
    "    # Tri + mesure du temps\n",
    "    debut = time.time()\n",
    "    \n",
    "    lignes_triees = tri_fusion(lignes, key=lambda x: x['popularity'])\n",
    "    \n",
    "    fin = time.time()\n",
    "\n",
    "    print(f\" Temps de tri ({\"fusion\"}) : {fin - debut:.3f} sec\")"
   ]
  },
  {
   "cell_type": "code",
   "execution_count": 11,
   "id": "a00a6334",
   "metadata": {},
   "outputs": [
    {
     "name": "stdout",
     "output_type": "stream",
     "text": [
      "\n",
      " Fichier : datasets\\wikirank_subset_100.tsv\n",
      " Lignes valides : 100\n",
      " Temps de tri (bulle) : 0.130 sec\n",
      "\n",
      " Fichier : datasets\\wikirank_subset_1000.tsv\n",
      " Lignes valides : 1000\n",
      " Temps de tri (bulle) : 0.084 sec\n",
      "\n",
      " Fichier : datasets\\wikirank_subset_10000.tsv\n",
      " Lignes valides : 10000\n",
      " Temps de tri (bulle) : 8.262 sec\n",
      "\n",
      " Fichier : datasets\\wikirank_subset_100000.tsv\n",
      " Lignes valides : 100000\n"
     ]
    },
    {
     "ename": "KeyboardInterrupt",
     "evalue": "",
     "output_type": "error",
     "traceback": [
      "\u001b[31m---------------------------------------------------------------------------\u001b[39m",
      "\u001b[31mKeyboardInterrupt\u001b[39m                         Traceback (most recent call last)",
      "\u001b[36mCell\u001b[39m\u001b[36m \u001b[39m\u001b[32mIn[11]\u001b[39m\u001b[32m, line 24\u001b[39m\n\u001b[32m     21\u001b[39m \u001b[38;5;66;03m# Tri + mesure du temps\u001b[39;00m\n\u001b[32m     22\u001b[39m debut = time.time()\n\u001b[32m---> \u001b[39m\u001b[32m24\u001b[39m lignes_triees = \u001b[43mtri_a_bulle\u001b[49m\u001b[43m(\u001b[49m\u001b[43mlignes\u001b[49m\u001b[43m,\u001b[49m\u001b[43m \u001b[49m\u001b[43mkey\u001b[49m\u001b[43m=\u001b[49m\u001b[38;5;28;43;01mlambda\u001b[39;49;00m\u001b[43m \u001b[49m\u001b[43mx\u001b[49m\u001b[43m:\u001b[49m\u001b[43m \u001b[49m\u001b[43mx\u001b[49m\u001b[43m[\u001b[49m\u001b[33;43m'\u001b[39;49m\u001b[33;43mpopularity\u001b[39;49m\u001b[33;43m'\u001b[39;49m\u001b[43m]\u001b[49m\u001b[43m)\u001b[49m\n\u001b[32m     26\u001b[39m fin = time.time()\n\u001b[32m     28\u001b[39m \u001b[38;5;28mprint\u001b[39m(\u001b[33mf\u001b[39m\u001b[33m\"\u001b[39m\u001b[33m Temps de tri (\u001b[39m\u001b[38;5;132;01m{\u001b[39;00malgo\u001b[38;5;132;01m}\u001b[39;00m\u001b[33m) : \u001b[39m\u001b[38;5;132;01m{\u001b[39;00mfin\u001b[38;5;250m \u001b[39m-\u001b[38;5;250m \u001b[39mdebut\u001b[38;5;132;01m:\u001b[39;00m\u001b[33m.3f\u001b[39m\u001b[38;5;132;01m}\u001b[39;00m\u001b[33m sec\u001b[39m\u001b[33m\"\u001b[39m)\n",
      "\u001b[36mCell\u001b[39m\u001b[36m \u001b[39m\u001b[32mIn[4]\u001b[39m\u001b[32m, line 6\u001b[39m, in \u001b[36mtri_a_bulle\u001b[39m\u001b[34m(T, key)\u001b[39m\n\u001b[32m      4\u001b[39m \u001b[38;5;28;01mfor\u001b[39;00m i \u001b[38;5;129;01min\u001b[39;00m \u001b[38;5;28mrange\u001b[39m(n):\n\u001b[32m      5\u001b[39m     \u001b[38;5;28;01mfor\u001b[39;00m j \u001b[38;5;129;01min\u001b[39;00m \u001b[38;5;28mrange\u001b[39m(n - i - \u001b[32m1\u001b[39m):\n\u001b[32m----> \u001b[39m\u001b[32m6\u001b[39m         \u001b[38;5;28;01mif\u001b[39;00m \u001b[43mkey\u001b[49m\u001b[43m(\u001b[49m\u001b[43mT\u001b[49m\u001b[43m[\u001b[49m\u001b[43mj\u001b[49m\u001b[43m \u001b[49m\u001b[43m+\u001b[49m\u001b[43m \u001b[49m\u001b[32;43m1\u001b[39;49m\u001b[43m]\u001b[49m\u001b[43m)\u001b[49m < key(T[j]):\n\u001b[32m      7\u001b[39m             T[j + \u001b[32m1\u001b[39m], T[j] = T[j], T[j + \u001b[32m1\u001b[39m]\n\u001b[32m      8\u001b[39m \u001b[38;5;28;01mreturn\u001b[39;00m T\n",
      "\u001b[36mCell\u001b[39m\u001b[36m \u001b[39m\u001b[32mIn[11]\u001b[39m\u001b[32m, line 24\u001b[39m, in \u001b[36m<lambda>\u001b[39m\u001b[34m(x)\u001b[39m\n\u001b[32m     21\u001b[39m \u001b[38;5;66;03m# Tri + mesure du temps\u001b[39;00m\n\u001b[32m     22\u001b[39m debut = time.time()\n\u001b[32m---> \u001b[39m\u001b[32m24\u001b[39m lignes_triees = tri_a_bulle(lignes, key=\u001b[38;5;28;01mlambda\u001b[39;00m x: x[\u001b[33m'\u001b[39m\u001b[33mpopularity\u001b[39m\u001b[33m'\u001b[39m])\n\u001b[32m     26\u001b[39m fin = time.time()\n\u001b[32m     28\u001b[39m \u001b[38;5;28mprint\u001b[39m(\u001b[33mf\u001b[39m\u001b[33m\"\u001b[39m\u001b[33m Temps de tri (\u001b[39m\u001b[38;5;132;01m{\u001b[39;00malgo\u001b[38;5;132;01m}\u001b[39;00m\u001b[33m) : \u001b[39m\u001b[38;5;132;01m{\u001b[39;00mfin\u001b[38;5;250m \u001b[39m-\u001b[38;5;250m \u001b[39mdebut\u001b[38;5;132;01m:\u001b[39;00m\u001b[33m.3f\u001b[39m\u001b[38;5;132;01m}\u001b[39;00m\u001b[33m sec\u001b[39m\u001b[33m\"\u001b[39m)\n",
      "\u001b[31mKeyboardInterrupt\u001b[39m: "
     ]
    }
   ],
   "source": [
    "#idem pour tri_a_bulle\n",
    "algo = \"bulle\"\n",
    "\n",
    "# Traitement manuel de chaque fichier\n",
    "for fichier in fichiers:\n",
    "    print(f\"\\n Fichier : {fichier}\")\n",
    "    \n",
    "    # Lecture TSV en liste de dicts\n",
    "    with open(fichier, mode='r', encoding='utf-8') as f:\n",
    "        lecteur = csv.DictReader(f, delimiter='\\t')\n",
    "        lignes = []\n",
    "        for ligne in lecteur:\n",
    "            try:\n",
    "                ligne['popularity'] = float(ligne['popularity'])\n",
    "                lignes.append(ligne)\n",
    "            except:\n",
    "                continue\n",
    "\n",
    "    print(f\" Lignes valides : {len(lignes)}\")\n",
    "\n",
    "    # Tri + mesure du temps\n",
    "    debut = time.time()\n",
    "    \n",
    "    lignes_triees = tri_a_bulle(lignes, key=lambda x: x['popularity'])\n",
    "    \n",
    "    fin = time.time()\n",
    "\n",
    "    print(f\" Temps de tri ({algo}) : {fin - debut:.3f} sec\")"
   ]
  },
  {
   "cell_type": "markdown",
   "id": "49129a0c",
   "metadata": {},
   "source": [
    "> **Warning**  \n",
    "> J'ai attendu plus de 18min et l'algo tri_a_bulle n'a pas terminé de trier les 100000 lignes."
   ]
  },
  {
   "cell_type": "markdown",
   "id": "59e07703",
   "metadata": {},
   "source": [
    "##### Visualisation des résultats de l'algo tri fusion (complexité O(nlogn)) :"
   ]
  },
  {
   "cell_type": "code",
   "execution_count": null,
   "id": "c7b6e708",
   "metadata": {},
   "outputs": [
    {
     "data": {
      "image/png": "[encoded data removed]",
      "text/plain": [
       "<Figure size 1000x600 with 1 Axes>"
      ]
     },
     "metadata": {},
     "output_type": "display_data"
    }
   ],
   "source": [
    "import matplotlib.pyplot as plt\n",
    "\n",
    "# Données extraites de tes résultats\n",
    "tailles = [100, 1000, 10000, 20000, 100000, 250000, 500000]\n",
    "temps =  [0.004, 0.004, 0.031, 0.101, 0.398, 1.114, 2.394]\n",
    "\n",
    "# Conversion en milliers pour l'axe X\n",
    "tailles_k = [t // 1000 for t in tailles]\n",
    "\n",
    "# Tracé\n",
    "plt.figure(figsize=(10, 6))\n",
    "plt.plot(tailles_k, temps, marker='o', linestyle='-', color='royalblue', label='Tri fusion')\n",
    "\n",
    "# Annotation\n",
    "plt.title(\"Temps de tri fusion en fonction de la taille du fichier\")\n",
    "plt.xlabel(\"Taille du fichier (en milliers de lignes)\")\n",
    "plt.ylabel(\"Temps d'exécution (secondes)\")\n",
    "plt.grid(True)\n",
    "plt.legend()\n",
    "plt.tight_layout()\n",
    "\n",
    "# Affichage\n",
    "plt.show()\n"
   ]
  },
  {
   "cell_type": "markdown",
   "id": "84796ddf",
   "metadata": {},
   "source": [
    "> **Note**  \n",
    ">la courbe montre clairement la croissance du temps de tri avec la taille du fichier. Elle illustre bien la complexité O(nlogn) du tri fusion."
   ]
  },
  {
   "cell_type": "markdown",
   "id": "c2af261b",
   "metadata": {},
   "source": [
    "##### Visualisation des résultats de l'algo tri a bulle (complexité O(n2)) :"
   ]
  },
  {
   "cell_type": "code",
   "execution_count": null,
   "id": "ddf9cc8e",
   "metadata": {},
   "outputs": [
    {
     "data": {
      "image/png": "[encoded data removed]",
      "text/plain": [
       "<Figure size 1000x600 with 1 Axes>"
      ]
     },
     "metadata": {},
     "output_type": "display_data"
    }
   ],
   "source": [
    "import matplotlib.pyplot as plt\n",
    "\n",
    "# Données du tri à bulle\n",
    "tailles = [100, 1000, 10000]  # 100000 est exclu car non terminé\n",
    "temps =  [0.004, 0.123, 8.807]\n",
    "\n",
    "# Conversion en milliers pour l'axe X\n",
    "tailles_k = [t // 1000 for t in tailles]\n",
    "\n",
    "# Tracé\n",
    "plt.figure(figsize=(10, 6))\n",
    "plt.plot(tailles_k, temps, marker='o', linestyle='-', color='crimson', label='Tri à bulle')\n",
    "\n",
    "# Annotation\n",
    "plt.title(\" Temps de tri à bulle en fonction de la taille du fichier\")\n",
    "plt.xlabel(\"Taille du fichier (en milliers de lignes)\")\n",
    "plt.ylabel(\"Temps d'exécution (secondes)\")\n",
    "plt.grid(True)\n",
    "plt.legend()\n",
    "plt.tight_layout()\n",
    "\n",
    "# Affichage\n",
    "plt.show()\n"
   ]
  },
  {
   "cell_type": "markdown",
   "id": "5d996e28",
   "metadata": {},
   "source": [
    "> **Note**  \n",
    ">une courbe explosive dès 10 000 lignes, typique d’un algorithme en O(n2)"
   ]
  }
 ],
 "metadata": {
  "kernelspec": {
   "display_name": "Python 3",
   "language": "python",
   "name": "python3"
  },
  "language_info": {
   "codemirror_mode": {
    "name": "ipython",
    "version": 3
   },
   "file_extension": ".py",
   "mimetype": "text/x-python",
   "name": "python",
   "nbconvert_exporter": "python",
   "pygments_lexer": "ipython3",
   "version": "3.13.0"
  }
 },
 "nbformat": 4,
 "nbformat_minor": 5
}
